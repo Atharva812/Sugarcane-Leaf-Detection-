{
 "cells": [
  {
   "cell_type": "code",
   "execution_count": 1,
   "metadata": {},
   "outputs": [],
   "source": [
    "import os\n",
    "from PIL import Image\n",
    "import shutil"
   ]
  },
  {
   "cell_type": "code",
   "execution_count": 2,
   "metadata": {},
   "outputs": [
    {
     "name": "stdout",
     "output_type": "stream",
     "text": [
      "Image resizing and saving complete.\n"
     ]
    }
   ],
   "source": [
    "# Set the input and output directories\n",
    "input_directory = 'C:\\\\Users\\\\athar\\\\OneDrive - MSFT\\\\Desktop\\\\Leaf Detection\\\\Leaf Image'\n",
    "output_directory = 'C:\\\\Users\\\\athar\\\\OneDrive - MSFT\\\\Desktop\\\\API'\n",
    "\n",
    "# Define the target image size\n",
    "target_size = (256, 256)  # Change this to your desired size\n",
    "\n",
    "# Function to resize and save images\n",
    "def resize_and_save(input_path, output_path, size):\n",
    "    try:\n",
    "        img = Image.open(input_path)\n",
    "        img = img.resize(size, Image.LANCZOS)  # Use Image.LANCZOS for resampling\n",
    "        img.save(output_path)\n",
    "    except Exception as e:\n",
    "        print(f\"Error processing {input_path}: {str(e)}\")\n",
    "\n",
    "# Iterate through the input directory\n",
    "for root, _, files in os.walk(input_directory):\n",
    "    for file in files:\n",
    "        input_path = os.path.join(root, file)\n",
    "\n",
    "        # Create the corresponding output directory structure\n",
    "        output_path = os.path.join(output_directory, os.path.relpath(input_path, input_directory))\n",
    "        output_dir = os.path.dirname(output_path)\n",
    "\n",
    "        if not os.path.exists(output_dir):\n",
    "            os.makedirs(output_dir)\n",
    "\n",
    "        # Resize and save the image\n",
    "        resize_and_save(input_path, output_path, target_size)\n",
    "\n",
    "print(\"Image resizing and saving complete.\")\n"
   ]
  },
  {
   "cell_type": "code",
   "execution_count": null,
   "metadata": {},
   "outputs": [],
   "source": [
    "\n"
   ]
  }
 ],
 "metadata": {
  "kernelspec": {
   "display_name": "gpu1",
   "language": "python",
   "name": "python3"
  },
  "language_info": {
   "codemirror_mode": {
    "name": "ipython",
    "version": 3
   },
   "file_extension": ".py",
   "mimetype": "text/x-python",
   "name": "python",
   "nbconvert_exporter": "python",
   "pygments_lexer": "ipython3",
   "version": "3.11.3"
  },
  "orig_nbformat": 4
 },
 "nbformat": 4,
 "nbformat_minor": 2
}
